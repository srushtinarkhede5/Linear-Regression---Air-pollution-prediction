{
 "cells": [
  {
   "cell_type": "code",
   "execution_count": 306,
   "id": "864bd30c",
   "metadata": {},
   "outputs": [],
   "source": [
    "import pandas as pd \n",
    "import numpy as np \n",
    "\n",
    "## Machine Learning\n",
    "import statsmodels\n",
    "from statsmodels.stats.anova import anova_lm\n",
    "from statsmodels.stats.outliers_influence import variance_inflation_factor\n",
    "\n",
    "## Data Visualization\n",
    "import seaborn as sns\n",
    "from matplotlib import pyplot as plt\n",
    "%matplotlib inline"
   ]
  },
  {
   "cell_type": "markdown",
   "id": "044fd209",
   "metadata": {},
   "source": [
    "## Importing data= Air Pollution"
   ]
  },
  {
   "cell_type": "code",
   "execution_count": 307,
   "id": "f796e3f1",
   "metadata": {},
   "outputs": [
    {
     "data": {
      "text/html": [
       "<div>\n",
       "<style scoped>\n",
       "    .dataframe tbody tr th:only-of-type {\n",
       "        vertical-align: middle;\n",
       "    }\n",
       "\n",
       "    .dataframe tbody tr th {\n",
       "        vertical-align: top;\n",
       "    }\n",
       "\n",
       "    .dataframe thead th {\n",
       "        text-align: right;\n",
       "    }\n",
       "</style>\n",
       "<table border=\"1\" class=\"dataframe\">\n",
       "  <thead>\n",
       "    <tr style=\"text-align: right;\">\n",
       "      <th></th>\n",
       "      <th>PM10</th>\n",
       "      <th>Pb</th>\n",
       "      <th>Cd</th>\n",
       "      <th>Cu</th>\n",
       "      <th>Cr</th>\n",
       "      <th>Zn</th>\n",
       "      <th>NOx</th>\n",
       "      <th>SO2</th>\n",
       "      <th>Site</th>\n",
       "      <th>Date</th>\n",
       "      <th>Season</th>\n",
       "    </tr>\n",
       "  </thead>\n",
       "  <tbody>\n",
       "    <tr>\n",
       "      <th>0</th>\n",
       "      <td>120.71</td>\n",
       "      <td>2.67</td>\n",
       "      <td>0.01</td>\n",
       "      <td>0.53</td>\n",
       "      <td>0.61</td>\n",
       "      <td>0</td>\n",
       "      <td>84.17</td>\n",
       "      <td>40.37</td>\n",
       "      <td>Mandai</td>\n",
       "      <td>2004-02-07</td>\n",
       "      <td>Summer</td>\n",
       "    </tr>\n",
       "    <tr>\n",
       "      <th>1</th>\n",
       "      <td>140.25</td>\n",
       "      <td>3.49</td>\n",
       "      <td>0.02</td>\n",
       "      <td>0.10</td>\n",
       "      <td>0.91</td>\n",
       "      <td>0</td>\n",
       "      <td>88.81</td>\n",
       "      <td>39.48</td>\n",
       "      <td>Mandai</td>\n",
       "      <td>2004-02-14</td>\n",
       "      <td>Summer</td>\n",
       "    </tr>\n",
       "    <tr>\n",
       "      <th>2</th>\n",
       "      <td>107.01</td>\n",
       "      <td>1.31</td>\n",
       "      <td>0.01</td>\n",
       "      <td>0.19</td>\n",
       "      <td>0.48</td>\n",
       "      <td>0</td>\n",
       "      <td>81.49</td>\n",
       "      <td>48.29</td>\n",
       "      <td>Mandai</td>\n",
       "      <td>2004-02-21</td>\n",
       "      <td>Summer</td>\n",
       "    </tr>\n",
       "    <tr>\n",
       "      <th>3</th>\n",
       "      <td>88.81</td>\n",
       "      <td>0.76</td>\n",
       "      <td>0.00</td>\n",
       "      <td>0.33</td>\n",
       "      <td>0.39</td>\n",
       "      <td>0</td>\n",
       "      <td>61.80</td>\n",
       "      <td>27.42</td>\n",
       "      <td>Mandai</td>\n",
       "      <td>2004-02-28</td>\n",
       "      <td>Summer</td>\n",
       "    </tr>\n",
       "    <tr>\n",
       "      <th>4</th>\n",
       "      <td>75.05</td>\n",
       "      <td>0.60</td>\n",
       "      <td>0.00</td>\n",
       "      <td>0.41</td>\n",
       "      <td>1.54</td>\n",
       "      <td>0</td>\n",
       "      <td>48.71</td>\n",
       "      <td>19.23</td>\n",
       "      <td>Mandai</td>\n",
       "      <td>2004-03-06</td>\n",
       "      <td>Summer</td>\n",
       "    </tr>\n",
       "    <tr>\n",
       "      <th>...</th>\n",
       "      <td>...</td>\n",
       "      <td>...</td>\n",
       "      <td>...</td>\n",
       "      <td>...</td>\n",
       "      <td>...</td>\n",
       "      <td>...</td>\n",
       "      <td>...</td>\n",
       "      <td>...</td>\n",
       "      <td>...</td>\n",
       "      <td>...</td>\n",
       "      <td>...</td>\n",
       "    </tr>\n",
       "    <tr>\n",
       "      <th>146</th>\n",
       "      <td>40.13</td>\n",
       "      <td>0.10</td>\n",
       "      <td>0.00</td>\n",
       "      <td>0.04</td>\n",
       "      <td>0.09</td>\n",
       "      <td>0</td>\n",
       "      <td>18.88</td>\n",
       "      <td>10.09</td>\n",
       "      <td>Bhosari</td>\n",
       "      <td>2004-09-01</td>\n",
       "      <td>Monsoon</td>\n",
       "    </tr>\n",
       "    <tr>\n",
       "      <th>147</th>\n",
       "      <td>40.38</td>\n",
       "      <td>0.10</td>\n",
       "      <td>0.00</td>\n",
       "      <td>0.03</td>\n",
       "      <td>0.09</td>\n",
       "      <td>0</td>\n",
       "      <td>47.56</td>\n",
       "      <td>24.14</td>\n",
       "      <td>Bhosari</td>\n",
       "      <td>2004-09-08</td>\n",
       "      <td>Monsoon</td>\n",
       "    </tr>\n",
       "    <tr>\n",
       "      <th>148</th>\n",
       "      <td>31.28</td>\n",
       "      <td>0.11</td>\n",
       "      <td>0.00</td>\n",
       "      <td>0.02</td>\n",
       "      <td>0.05</td>\n",
       "      <td>0</td>\n",
       "      <td>31.53</td>\n",
       "      <td>26.64</td>\n",
       "      <td>Bhosari</td>\n",
       "      <td>2004-09-15</td>\n",
       "      <td>Monsoon</td>\n",
       "    </tr>\n",
       "    <tr>\n",
       "      <th>149</th>\n",
       "      <td>52.10</td>\n",
       "      <td>0.48</td>\n",
       "      <td>0.00</td>\n",
       "      <td>0.04</td>\n",
       "      <td>0.06</td>\n",
       "      <td>0</td>\n",
       "      <td>42.08</td>\n",
       "      <td>22.95</td>\n",
       "      <td>Bhosari</td>\n",
       "      <td>2004-09-22</td>\n",
       "      <td>Monsoon</td>\n",
       "    </tr>\n",
       "    <tr>\n",
       "      <th>150</th>\n",
       "      <td>27.19</td>\n",
       "      <td>0.02</td>\n",
       "      <td>0.00</td>\n",
       "      <td>0.02</td>\n",
       "      <td>0.03</td>\n",
       "      <td>0</td>\n",
       "      <td>53.29</td>\n",
       "      <td>36.24</td>\n",
       "      <td>Bhosari</td>\n",
       "      <td>2004-09-29</td>\n",
       "      <td>Monsoon</td>\n",
       "    </tr>\n",
       "  </tbody>\n",
       "</table>\n",
       "<p>151 rows × 11 columns</p>\n",
       "</div>"
      ],
      "text/plain": [
       "       PM10    Pb    Cd    Cu    Cr  Zn    NOx    SO2     Site       Date  \\\n",
       "0    120.71  2.67  0.01  0.53  0.61   0  84.17  40.37   Mandai 2004-02-07   \n",
       "1    140.25  3.49  0.02  0.10  0.91   0  88.81  39.48   Mandai 2004-02-14   \n",
       "2    107.01  1.31  0.01  0.19  0.48   0  81.49  48.29   Mandai 2004-02-21   \n",
       "3     88.81  0.76  0.00  0.33  0.39   0  61.80  27.42   Mandai 2004-02-28   \n",
       "4     75.05  0.60  0.00  0.41  1.54   0  48.71  19.23   Mandai 2004-03-06   \n",
       "..      ...   ...   ...   ...   ...  ..    ...    ...      ...        ...   \n",
       "146   40.13  0.10  0.00  0.04  0.09   0  18.88  10.09  Bhosari 2004-09-01   \n",
       "147   40.38  0.10  0.00  0.03  0.09   0  47.56  24.14  Bhosari 2004-09-08   \n",
       "148   31.28  0.11  0.00  0.02  0.05   0  31.53  26.64  Bhosari 2004-09-15   \n",
       "149   52.10  0.48  0.00  0.04  0.06   0  42.08  22.95  Bhosari 2004-09-22   \n",
       "150   27.19  0.02  0.00  0.02  0.03   0  53.29  36.24  Bhosari 2004-09-29   \n",
       "\n",
       "      Season  \n",
       "0     Summer  \n",
       "1     Summer  \n",
       "2     Summer  \n",
       "3     Summer  \n",
       "4     Summer  \n",
       "..       ...  \n",
       "146  Monsoon  \n",
       "147  Monsoon  \n",
       "148  Monsoon  \n",
       "149  Monsoon  \n",
       "150  Monsoon  \n",
       "\n",
       "[151 rows x 11 columns]"
      ]
     },
     "execution_count": 307,
     "metadata": {},
     "output_type": "execute_result"
    }
   ],
   "source": [
    "df=pd.read_excel(r'C:\\Users\\Srushti\\Desktop\\Machine Learning\\Assignment\\AirPollution.xls')\n",
    "df"
   ]
  },
  {
   "cell_type": "code",
   "execution_count": 308,
   "id": "58cae636",
   "metadata": {},
   "outputs": [
    {
     "data": {
      "text/html": [
       "<div>\n",
       "<style scoped>\n",
       "    .dataframe tbody tr th:only-of-type {\n",
       "        vertical-align: middle;\n",
       "    }\n",
       "\n",
       "    .dataframe tbody tr th {\n",
       "        vertical-align: top;\n",
       "    }\n",
       "\n",
       "    .dataframe thead th {\n",
       "        text-align: right;\n",
       "    }\n",
       "</style>\n",
       "<table border=\"1\" class=\"dataframe\">\n",
       "  <thead>\n",
       "    <tr style=\"text-align: right;\">\n",
       "      <th></th>\n",
       "      <th>PM10</th>\n",
       "      <th>Pb</th>\n",
       "      <th>Cu</th>\n",
       "      <th>Cr</th>\n",
       "      <th>NOx</th>\n",
       "      <th>SO2</th>\n",
       "    </tr>\n",
       "  </thead>\n",
       "  <tbody>\n",
       "    <tr>\n",
       "      <th>0</th>\n",
       "      <td>120.71</td>\n",
       "      <td>2.67</td>\n",
       "      <td>0.53</td>\n",
       "      <td>0.61</td>\n",
       "      <td>84.17</td>\n",
       "      <td>40.37</td>\n",
       "    </tr>\n",
       "    <tr>\n",
       "      <th>1</th>\n",
       "      <td>140.25</td>\n",
       "      <td>3.49</td>\n",
       "      <td>0.10</td>\n",
       "      <td>0.91</td>\n",
       "      <td>88.81</td>\n",
       "      <td>39.48</td>\n",
       "    </tr>\n",
       "    <tr>\n",
       "      <th>2</th>\n",
       "      <td>107.01</td>\n",
       "      <td>1.31</td>\n",
       "      <td>0.19</td>\n",
       "      <td>0.48</td>\n",
       "      <td>81.49</td>\n",
       "      <td>48.29</td>\n",
       "    </tr>\n",
       "    <tr>\n",
       "      <th>3</th>\n",
       "      <td>88.81</td>\n",
       "      <td>0.76</td>\n",
       "      <td>0.33</td>\n",
       "      <td>0.39</td>\n",
       "      <td>61.80</td>\n",
       "      <td>27.42</td>\n",
       "    </tr>\n",
       "    <tr>\n",
       "      <th>4</th>\n",
       "      <td>75.05</td>\n",
       "      <td>0.60</td>\n",
       "      <td>0.41</td>\n",
       "      <td>1.54</td>\n",
       "      <td>48.71</td>\n",
       "      <td>19.23</td>\n",
       "    </tr>\n",
       "    <tr>\n",
       "      <th>...</th>\n",
       "      <td>...</td>\n",
       "      <td>...</td>\n",
       "      <td>...</td>\n",
       "      <td>...</td>\n",
       "      <td>...</td>\n",
       "      <td>...</td>\n",
       "    </tr>\n",
       "    <tr>\n",
       "      <th>146</th>\n",
       "      <td>40.13</td>\n",
       "      <td>0.10</td>\n",
       "      <td>0.04</td>\n",
       "      <td>0.09</td>\n",
       "      <td>18.88</td>\n",
       "      <td>10.09</td>\n",
       "    </tr>\n",
       "    <tr>\n",
       "      <th>147</th>\n",
       "      <td>40.38</td>\n",
       "      <td>0.10</td>\n",
       "      <td>0.03</td>\n",
       "      <td>0.09</td>\n",
       "      <td>47.56</td>\n",
       "      <td>24.14</td>\n",
       "    </tr>\n",
       "    <tr>\n",
       "      <th>148</th>\n",
       "      <td>31.28</td>\n",
       "      <td>0.11</td>\n",
       "      <td>0.02</td>\n",
       "      <td>0.05</td>\n",
       "      <td>31.53</td>\n",
       "      <td>26.64</td>\n",
       "    </tr>\n",
       "    <tr>\n",
       "      <th>149</th>\n",
       "      <td>52.10</td>\n",
       "      <td>0.48</td>\n",
       "      <td>0.04</td>\n",
       "      <td>0.06</td>\n",
       "      <td>42.08</td>\n",
       "      <td>22.95</td>\n",
       "    </tr>\n",
       "    <tr>\n",
       "      <th>150</th>\n",
       "      <td>27.19</td>\n",
       "      <td>0.02</td>\n",
       "      <td>0.02</td>\n",
       "      <td>0.03</td>\n",
       "      <td>53.29</td>\n",
       "      <td>36.24</td>\n",
       "    </tr>\n",
       "  </tbody>\n",
       "</table>\n",
       "<p>151 rows × 6 columns</p>\n",
       "</div>"
      ],
      "text/plain": [
       "       PM10    Pb    Cu    Cr    NOx    SO2\n",
       "0    120.71  2.67  0.53  0.61  84.17  40.37\n",
       "1    140.25  3.49  0.10  0.91  88.81  39.48\n",
       "2    107.01  1.31  0.19  0.48  81.49  48.29\n",
       "3     88.81  0.76  0.33  0.39  61.80  27.42\n",
       "4     75.05  0.60  0.41  1.54  48.71  19.23\n",
       "..      ...   ...   ...   ...    ...    ...\n",
       "146   40.13  0.10  0.04  0.09  18.88  10.09\n",
       "147   40.38  0.10  0.03  0.09  47.56  24.14\n",
       "148   31.28  0.11  0.02  0.05  31.53  26.64\n",
       "149   52.10  0.48  0.04  0.06  42.08  22.95\n",
       "150   27.19  0.02  0.02  0.03  53.29  36.24\n",
       "\n",
       "[151 rows x 6 columns]"
      ]
     },
     "execution_count": 308,
     "metadata": {},
     "output_type": "execute_result"
    }
   ],
   "source": [
    "new=df.drop(['Site','Date','Season','Zn','Cd'],axis=1)\n",
    "new"
   ]
  },
  {
   "cell_type": "code",
   "execution_count": 309,
   "id": "680a7646",
   "metadata": {},
   "outputs": [
    {
     "name": "stdout",
     "output_type": "stream",
     "text": [
      "<class 'pandas.core.frame.DataFrame'>\n",
      "RangeIndex: 151 entries, 0 to 150\n",
      "Data columns (total 6 columns):\n",
      " #   Column  Non-Null Count  Dtype  \n",
      "---  ------  --------------  -----  \n",
      " 0   PM10    151 non-null    float64\n",
      " 1   Pb      151 non-null    float64\n",
      " 2   Cu      151 non-null    float64\n",
      " 3   Cr      151 non-null    float64\n",
      " 4   NOx     151 non-null    float64\n",
      " 5   SO2     151 non-null    float64\n",
      "dtypes: float64(6)\n",
      "memory usage: 7.2 KB\n"
     ]
    }
   ],
   "source": [
    "new.info()"
   ]
  },
  {
   "cell_type": "code",
   "execution_count": 310,
   "id": "bb5f5110",
   "metadata": {},
   "outputs": [
    {
     "data": {
      "text/html": [
       "<div>\n",
       "<style scoped>\n",
       "    .dataframe tbody tr th:only-of-type {\n",
       "        vertical-align: middle;\n",
       "    }\n",
       "\n",
       "    .dataframe tbody tr th {\n",
       "        vertical-align: top;\n",
       "    }\n",
       "\n",
       "    .dataframe thead th {\n",
       "        text-align: right;\n",
       "    }\n",
       "</style>\n",
       "<table border=\"1\" class=\"dataframe\">\n",
       "  <thead>\n",
       "    <tr style=\"text-align: right;\">\n",
       "      <th></th>\n",
       "      <th>PM10</th>\n",
       "      <th>Pb</th>\n",
       "      <th>Cu</th>\n",
       "      <th>Cr</th>\n",
       "      <th>NOx</th>\n",
       "      <th>SO2</th>\n",
       "    </tr>\n",
       "  </thead>\n",
       "  <tbody>\n",
       "    <tr>\n",
       "      <th>count</th>\n",
       "      <td>151.000000</td>\n",
       "      <td>151.000000</td>\n",
       "      <td>151.000000</td>\n",
       "      <td>151.000000</td>\n",
       "      <td>151.000000</td>\n",
       "      <td>151.000000</td>\n",
       "    </tr>\n",
       "    <tr>\n",
       "      <th>mean</th>\n",
       "      <td>68.536026</td>\n",
       "      <td>0.716358</td>\n",
       "      <td>0.331854</td>\n",
       "      <td>0.390066</td>\n",
       "      <td>42.692914</td>\n",
       "      <td>22.359868</td>\n",
       "    </tr>\n",
       "    <tr>\n",
       "      <th>std</th>\n",
       "      <td>40.908548</td>\n",
       "      <td>0.673069</td>\n",
       "      <td>0.408259</td>\n",
       "      <td>0.434575</td>\n",
       "      <td>23.101723</td>\n",
       "      <td>10.393498</td>\n",
       "    </tr>\n",
       "    <tr>\n",
       "      <th>min</th>\n",
       "      <td>16.240000</td>\n",
       "      <td>0.000000</td>\n",
       "      <td>0.000000</td>\n",
       "      <td>0.000000</td>\n",
       "      <td>8.260000</td>\n",
       "      <td>0.000000</td>\n",
       "    </tr>\n",
       "    <tr>\n",
       "      <th>25%</th>\n",
       "      <td>37.005000</td>\n",
       "      <td>0.220000</td>\n",
       "      <td>0.040000</td>\n",
       "      <td>0.085000</td>\n",
       "      <td>25.735000</td>\n",
       "      <td>15.165000</td>\n",
       "    </tr>\n",
       "    <tr>\n",
       "      <th>50%</th>\n",
       "      <td>59.610000</td>\n",
       "      <td>0.570000</td>\n",
       "      <td>0.130000</td>\n",
       "      <td>0.230000</td>\n",
       "      <td>37.000000</td>\n",
       "      <td>20.930000</td>\n",
       "    </tr>\n",
       "    <tr>\n",
       "      <th>75%</th>\n",
       "      <td>89.820000</td>\n",
       "      <td>0.965000</td>\n",
       "      <td>0.535000</td>\n",
       "      <td>0.580000</td>\n",
       "      <td>54.695000</td>\n",
       "      <td>27.420000</td>\n",
       "    </tr>\n",
       "    <tr>\n",
       "      <th>max</th>\n",
       "      <td>194.740000</td>\n",
       "      <td>3.490000</td>\n",
       "      <td>1.650000</td>\n",
       "      <td>3.220000</td>\n",
       "      <td>121.460000</td>\n",
       "      <td>53.270000</td>\n",
       "    </tr>\n",
       "  </tbody>\n",
       "</table>\n",
       "</div>"
      ],
      "text/plain": [
       "             PM10          Pb          Cu          Cr         NOx         SO2\n",
       "count  151.000000  151.000000  151.000000  151.000000  151.000000  151.000000\n",
       "mean    68.536026    0.716358    0.331854    0.390066   42.692914   22.359868\n",
       "std     40.908548    0.673069    0.408259    0.434575   23.101723   10.393498\n",
       "min     16.240000    0.000000    0.000000    0.000000    8.260000    0.000000\n",
       "25%     37.005000    0.220000    0.040000    0.085000   25.735000   15.165000\n",
       "50%     59.610000    0.570000    0.130000    0.230000   37.000000   20.930000\n",
       "75%     89.820000    0.965000    0.535000    0.580000   54.695000   27.420000\n",
       "max    194.740000    3.490000    1.650000    3.220000  121.460000   53.270000"
      ]
     },
     "execution_count": 310,
     "metadata": {},
     "output_type": "execute_result"
    }
   ],
   "source": [
    "new.describe()"
   ]
  },
  {
   "cell_type": "markdown",
   "id": "a157ead5",
   "metadata": {},
   "source": [
    "## Checking for Outliers"
   ]
  },
  {
   "cell_type": "code",
   "execution_count": 311,
   "id": "8cef9b01",
   "metadata": {},
   "outputs": [
    {
     "data": {
      "text/plain": [
       "<AxesSubplot:>"
      ]
     },
     "execution_count": 311,
     "metadata": {},
     "output_type": "execute_result"
    },
    {
     "data": {
      "image/png": "[encoded data removed]",
      "text/plain": [
       "<Figure size 432x288 with 1 Axes>"
      ]
     },
     "metadata": {
      "needs_background": "light"
     },
     "output_type": "display_data"
    }
   ],
   "source": [
    "sns.boxplot(data=new)"
   ]
  },
  {
   "cell_type": "markdown",
   "id": "b7108233",
   "metadata": {},
   "source": [
    "## Removing Outliers"
   ]
  },
  {
   "cell_type": "code",
   "execution_count": 312,
   "id": "d6563a92",
   "metadata": {},
   "outputs": [
    {
     "data": {
      "text/html": [
       "<div>\n",
       "<style scoped>\n",
       "    .dataframe tbody tr th:only-of-type {\n",
       "        vertical-align: middle;\n",
       "    }\n",
       "\n",
       "    .dataframe tbody tr th {\n",
       "        vertical-align: top;\n",
       "    }\n",
       "\n",
       "    .dataframe thead th {\n",
       "        text-align: right;\n",
       "    }\n",
       "</style>\n",
       "<table border=\"1\" class=\"dataframe\">\n",
       "  <thead>\n",
       "    <tr style=\"text-align: right;\">\n",
       "      <th></th>\n",
       "      <th>PM10</th>\n",
       "      <th>Pb</th>\n",
       "      <th>Cu</th>\n",
       "      <th>Cr</th>\n",
       "      <th>NOx</th>\n",
       "      <th>SO2</th>\n",
       "    </tr>\n",
       "  </thead>\n",
       "  <tbody>\n",
       "    <tr>\n",
       "      <th>0</th>\n",
       "      <td>120.71</td>\n",
       "      <td>2.0825</td>\n",
       "      <td>0.53</td>\n",
       "      <td>0.6100</td>\n",
       "      <td>84.17</td>\n",
       "      <td>40.3700</td>\n",
       "    </tr>\n",
       "    <tr>\n",
       "      <th>1</th>\n",
       "      <td>140.25</td>\n",
       "      <td>2.0825</td>\n",
       "      <td>0.10</td>\n",
       "      <td>0.9100</td>\n",
       "      <td>88.81</td>\n",
       "      <td>39.4800</td>\n",
       "    </tr>\n",
       "    <tr>\n",
       "      <th>2</th>\n",
       "      <td>107.01</td>\n",
       "      <td>1.3100</td>\n",
       "      <td>0.19</td>\n",
       "      <td>0.4800</td>\n",
       "      <td>81.49</td>\n",
       "      <td>45.8025</td>\n",
       "    </tr>\n",
       "    <tr>\n",
       "      <th>3</th>\n",
       "      <td>88.81</td>\n",
       "      <td>0.7600</td>\n",
       "      <td>0.33</td>\n",
       "      <td>0.3900</td>\n",
       "      <td>61.80</td>\n",
       "      <td>27.4200</td>\n",
       "    </tr>\n",
       "    <tr>\n",
       "      <th>4</th>\n",
       "      <td>75.05</td>\n",
       "      <td>0.6000</td>\n",
       "      <td>0.41</td>\n",
       "      <td>1.3225</td>\n",
       "      <td>48.71</td>\n",
       "      <td>19.2300</td>\n",
       "    </tr>\n",
       "    <tr>\n",
       "      <th>...</th>\n",
       "      <td>...</td>\n",
       "      <td>...</td>\n",
       "      <td>...</td>\n",
       "      <td>...</td>\n",
       "      <td>...</td>\n",
       "      <td>...</td>\n",
       "    </tr>\n",
       "    <tr>\n",
       "      <th>146</th>\n",
       "      <td>40.13</td>\n",
       "      <td>0.1000</td>\n",
       "      <td>0.04</td>\n",
       "      <td>0.0900</td>\n",
       "      <td>18.88</td>\n",
       "      <td>10.0900</td>\n",
       "    </tr>\n",
       "    <tr>\n",
       "      <th>147</th>\n",
       "      <td>40.38</td>\n",
       "      <td>0.1000</td>\n",
       "      <td>0.03</td>\n",
       "      <td>0.0900</td>\n",
       "      <td>47.56</td>\n",
       "      <td>24.1400</td>\n",
       "    </tr>\n",
       "    <tr>\n",
       "      <th>148</th>\n",
       "      <td>31.28</td>\n",
       "      <td>0.1100</td>\n",
       "      <td>0.02</td>\n",
       "      <td>0.0500</td>\n",
       "      <td>31.53</td>\n",
       "      <td>26.6400</td>\n",
       "    </tr>\n",
       "    <tr>\n",
       "      <th>149</th>\n",
       "      <td>52.10</td>\n",
       "      <td>0.4800</td>\n",
       "      <td>0.04</td>\n",
       "      <td>0.0600</td>\n",
       "      <td>42.08</td>\n",
       "      <td>22.9500</td>\n",
       "    </tr>\n",
       "    <tr>\n",
       "      <th>150</th>\n",
       "      <td>27.19</td>\n",
       "      <td>0.0200</td>\n",
       "      <td>0.02</td>\n",
       "      <td>0.0300</td>\n",
       "      <td>53.29</td>\n",
       "      <td>36.2400</td>\n",
       "    </tr>\n",
       "  </tbody>\n",
       "</table>\n",
       "<p>151 rows × 6 columns</p>\n",
       "</div>"
      ],
      "text/plain": [
       "       PM10      Pb    Cu      Cr    NOx      SO2\n",
       "0    120.71  2.0825  0.53  0.6100  84.17  40.3700\n",
       "1    140.25  2.0825  0.10  0.9100  88.81  39.4800\n",
       "2    107.01  1.3100  0.19  0.4800  81.49  45.8025\n",
       "3     88.81  0.7600  0.33  0.3900  61.80  27.4200\n",
       "4     75.05  0.6000  0.41  1.3225  48.71  19.2300\n",
       "..      ...     ...   ...     ...    ...      ...\n",
       "146   40.13  0.1000  0.04  0.0900  18.88  10.0900\n",
       "147   40.38  0.1000  0.03  0.0900  47.56  24.1400\n",
       "148   31.28  0.1100  0.02  0.0500  31.53  26.6400\n",
       "149   52.10  0.4800  0.04  0.0600  42.08  22.9500\n",
       "150   27.19  0.0200  0.02  0.0300  53.29  36.2400\n",
       "\n",
       "[151 rows x 6 columns]"
      ]
     },
     "execution_count": 312,
     "metadata": {},
     "output_type": "execute_result"
    }
   ],
   "source": [
    "def remove_outlier(new):\n",
    "    for i in new.columns :\n",
    "        q1=new[i].quantile(0.25)\n",
    "        q3=new[i].quantile(0.75)\n",
    "        iqr=q3-q1\n",
    "        upper_limit=q3+1.5*iqr\n",
    "        lower_limit=q1-1.5*iqr\n",
    "        if ((new[i].dtype=='float64') | (new[i].dtype=='int64')): \n",
    "            new[i][new[i]>=upper_limit]=upper_limit\n",
    "            new[i][new[i]<=lower_limit]=lower_limit\n",
    "        else:\n",
    "            new[i]=new[i]\n",
    "    return new\n",
    "\n",
    "remove_outlier(new)"
   ]
  },
  {
   "cell_type": "code",
   "execution_count": 313,
   "id": "d3cf4f08",
   "metadata": {},
   "outputs": [
    {
     "data": {
      "text/plain": [
       "<AxesSubplot:>"
      ]
     },
     "execution_count": 313,
     "metadata": {},
     "output_type": "execute_result"
    },
    {
     "data": {
      "image/png": "[encoded data removed]",
      "text/plain": [
       "<Figure size 432x288 with 1 Axes>"
      ]
     },
     "metadata": {
      "needs_background": "light"
     },
     "output_type": "display_data"
    }
   ],
   "source": [
    "sns.boxplot(data=new)"
   ]
  },
  {
   "cell_type": "markdown",
   "id": "a6f9de33",
   "metadata": {},
   "source": [
    "## Checking for Missing values"
   ]
  },
  {
   "cell_type": "code",
   "execution_count": 314,
   "id": "6e478af3",
   "metadata": {},
   "outputs": [
    {
     "data": {
      "text/plain": [
       "PM10    0\n",
       "Pb      0\n",
       "Cu      0\n",
       "Cr      0\n",
       "NOx     0\n",
       "SO2     0\n",
       "dtype: int64"
      ]
     },
     "execution_count": 314,
     "metadata": {},
     "output_type": "execute_result"
    }
   ],
   "source": [
    "new.isna().sum()"
   ]
  },
  {
   "cell_type": "markdown",
   "id": "1d657e90",
   "metadata": {},
   "source": [
    "There are no Missing values"
   ]
  },
  {
   "cell_type": "markdown",
   "id": "bfd28ed3",
   "metadata": {},
   "source": [
    "## DATA PARTITION"
   ]
  },
  {
   "cell_type": "code",
   "execution_count": 315,
   "id": "29a68de1",
   "metadata": {},
   "outputs": [],
   "source": [
    "x=new.drop('PM10',axis=1)\n",
    "y=new.PM10\n",
    "from sklearn.model_selection import train_test_split\n",
    "x_train,x_test,y_train,y_test=train_test_split(x,y,train_size=0.7,random_state=101)"
   ]
  },
  {
   "cell_type": "markdown",
   "id": "ced308b0",
   "metadata": {},
   "source": [
    "## Train data"
   ]
  },
  {
   "cell_type": "code",
   "execution_count": 316,
   "id": "9b061f53",
   "metadata": {},
   "outputs": [
    {
     "data": {
      "text/html": [
       "<div>\n",
       "<style scoped>\n",
       "    .dataframe tbody tr th:only-of-type {\n",
       "        vertical-align: middle;\n",
       "    }\n",
       "\n",
       "    .dataframe tbody tr th {\n",
       "        vertical-align: top;\n",
       "    }\n",
       "\n",
       "    .dataframe thead th {\n",
       "        text-align: right;\n",
       "    }\n",
       "</style>\n",
       "<table border=\"1\" class=\"dataframe\">\n",
       "  <thead>\n",
       "    <tr style=\"text-align: right;\">\n",
       "      <th></th>\n",
       "      <th>PM10</th>\n",
       "      <th>Pb</th>\n",
       "      <th>Cu</th>\n",
       "      <th>Cr</th>\n",
       "      <th>NOx</th>\n",
       "      <th>SO2</th>\n",
       "    </tr>\n",
       "  </thead>\n",
       "  <tbody>\n",
       "    <tr>\n",
       "      <th>119</th>\n",
       "      <td>32.44</td>\n",
       "      <td>0.18</td>\n",
       "      <td>0.05</td>\n",
       "      <td>0.01</td>\n",
       "      <td>16.68</td>\n",
       "      <td>5.98</td>\n",
       "    </tr>\n",
       "    <tr>\n",
       "      <th>13</th>\n",
       "      <td>31.31</td>\n",
       "      <td>0.47</td>\n",
       "      <td>0.07</td>\n",
       "      <td>0.10</td>\n",
       "      <td>29.84</td>\n",
       "      <td>16.27</td>\n",
       "    </tr>\n",
       "    <tr>\n",
       "      <th>74</th>\n",
       "      <td>55.74</td>\n",
       "      <td>0.72</td>\n",
       "      <td>0.19</td>\n",
       "      <td>0.32</td>\n",
       "      <td>61.72</td>\n",
       "      <td>23.51</td>\n",
       "    </tr>\n",
       "    <tr>\n",
       "      <th>68</th>\n",
       "      <td>91.89</td>\n",
       "      <td>0.99</td>\n",
       "      <td>0.09</td>\n",
       "      <td>0.51</td>\n",
       "      <td>79.11</td>\n",
       "      <td>38.29</td>\n",
       "    </tr>\n",
       "    <tr>\n",
       "      <th>34</th>\n",
       "      <td>21.21</td>\n",
       "      <td>0.14</td>\n",
       "      <td>0.10</td>\n",
       "      <td>0.00</td>\n",
       "      <td>31.62</td>\n",
       "      <td>17.52</td>\n",
       "    </tr>\n",
       "    <tr>\n",
       "      <th>...</th>\n",
       "      <td>...</td>\n",
       "      <td>...</td>\n",
       "      <td>...</td>\n",
       "      <td>...</td>\n",
       "      <td>...</td>\n",
       "      <td>...</td>\n",
       "    </tr>\n",
       "    <tr>\n",
       "      <th>63</th>\n",
       "      <td>141.11</td>\n",
       "      <td>1.39</td>\n",
       "      <td>0.53</td>\n",
       "      <td>0.71</td>\n",
       "      <td>80.72</td>\n",
       "      <td>34.31</td>\n",
       "    </tr>\n",
       "    <tr>\n",
       "      <th>70</th>\n",
       "      <td>39.27</td>\n",
       "      <td>0.66</td>\n",
       "      <td>0.10</td>\n",
       "      <td>0.22</td>\n",
       "      <td>23.93</td>\n",
       "      <td>20.16</td>\n",
       "    </tr>\n",
       "    <tr>\n",
       "      <th>81</th>\n",
       "      <td>57.36</td>\n",
       "      <td>0.92</td>\n",
       "      <td>0.89</td>\n",
       "      <td>0.55</td>\n",
       "      <td>63.66</td>\n",
       "      <td>27.13</td>\n",
       "    </tr>\n",
       "    <tr>\n",
       "      <th>11</th>\n",
       "      <td>46.80</td>\n",
       "      <td>0.65</td>\n",
       "      <td>0.07</td>\n",
       "      <td>0.22</td>\n",
       "      <td>63.22</td>\n",
       "      <td>35.12</td>\n",
       "    </tr>\n",
       "    <tr>\n",
       "      <th>95</th>\n",
       "      <td>121.08</td>\n",
       "      <td>1.07</td>\n",
       "      <td>0.28</td>\n",
       "      <td>0.85</td>\n",
       "      <td>29.37</td>\n",
       "      <td>19.94</td>\n",
       "    </tr>\n",
       "  </tbody>\n",
       "</table>\n",
       "<p>105 rows × 6 columns</p>\n",
       "</div>"
      ],
      "text/plain": [
       "       PM10    Pb    Cu    Cr    NOx    SO2\n",
       "119   32.44  0.18  0.05  0.01  16.68   5.98\n",
       "13    31.31  0.47  0.07  0.10  29.84  16.27\n",
       "74    55.74  0.72  0.19  0.32  61.72  23.51\n",
       "68    91.89  0.99  0.09  0.51  79.11  38.29\n",
       "34    21.21  0.14  0.10  0.00  31.62  17.52\n",
       "..      ...   ...   ...   ...    ...    ...\n",
       "63   141.11  1.39  0.53  0.71  80.72  34.31\n",
       "70    39.27  0.66  0.10  0.22  23.93  20.16\n",
       "81    57.36  0.92  0.89  0.55  63.66  27.13\n",
       "11    46.80  0.65  0.07  0.22  63.22  35.12\n",
       "95   121.08  1.07  0.28  0.85  29.37  19.94\n",
       "\n",
       "[105 rows x 6 columns]"
      ]
     },
     "execution_count": 316,
     "metadata": {},
     "output_type": "execute_result"
    }
   ],
   "source": [
    "new1=pd.concat([y_train,x_train],axis=1)\n",
    "new1"
   ]
  },
  {
   "cell_type": "markdown",
   "id": "c75644b7",
   "metadata": {},
   "source": [
    "## Finding Correlation and Collinearity"
   ]
  },
  {
   "cell_type": "code",
   "execution_count": 317,
   "id": "f0134f2f",
   "metadata": {},
   "outputs": [
    {
     "data": {
      "text/html": [
       "<div>\n",
       "<style scoped>\n",
       "    .dataframe tbody tr th:only-of-type {\n",
       "        vertical-align: middle;\n",
       "    }\n",
       "\n",
       "    .dataframe tbody tr th {\n",
       "        vertical-align: top;\n",
       "    }\n",
       "\n",
       "    .dataframe thead th {\n",
       "        text-align: right;\n",
       "    }\n",
       "</style>\n",
       "<table border=\"1\" class=\"dataframe\">\n",
       "  <thead>\n",
       "    <tr style=\"text-align: right;\">\n",
       "      <th></th>\n",
       "      <th>PM10</th>\n",
       "      <th>Pb</th>\n",
       "      <th>Cu</th>\n",
       "      <th>Cr</th>\n",
       "      <th>NOx</th>\n",
       "      <th>SO2</th>\n",
       "    </tr>\n",
       "  </thead>\n",
       "  <tbody>\n",
       "    <tr>\n",
       "      <th>PM10</th>\n",
       "      <td>1.000000</td>\n",
       "      <td>0.859673</td>\n",
       "      <td>0.762416</td>\n",
       "      <td>0.881531</td>\n",
       "      <td>0.657616</td>\n",
       "      <td>0.659130</td>\n",
       "    </tr>\n",
       "    <tr>\n",
       "      <th>Pb</th>\n",
       "      <td>0.859673</td>\n",
       "      <td>1.000000</td>\n",
       "      <td>0.733743</td>\n",
       "      <td>0.816156</td>\n",
       "      <td>0.694778</td>\n",
       "      <td>0.640025</td>\n",
       "    </tr>\n",
       "    <tr>\n",
       "      <th>Cu</th>\n",
       "      <td>0.762416</td>\n",
       "      <td>0.733743</td>\n",
       "      <td>1.000000</td>\n",
       "      <td>0.846173</td>\n",
       "      <td>0.575879</td>\n",
       "      <td>0.560728</td>\n",
       "    </tr>\n",
       "    <tr>\n",
       "      <th>Cr</th>\n",
       "      <td>0.881531</td>\n",
       "      <td>0.816156</td>\n",
       "      <td>0.846173</td>\n",
       "      <td>1.000000</td>\n",
       "      <td>0.612259</td>\n",
       "      <td>0.615796</td>\n",
       "    </tr>\n",
       "    <tr>\n",
       "      <th>NOx</th>\n",
       "      <td>0.657616</td>\n",
       "      <td>0.694778</td>\n",
       "      <td>0.575879</td>\n",
       "      <td>0.612259</td>\n",
       "      <td>1.000000</td>\n",
       "      <td>0.885179</td>\n",
       "    </tr>\n",
       "    <tr>\n",
       "      <th>SO2</th>\n",
       "      <td>0.659130</td>\n",
       "      <td>0.640025</td>\n",
       "      <td>0.560728</td>\n",
       "      <td>0.615796</td>\n",
       "      <td>0.885179</td>\n",
       "      <td>1.000000</td>\n",
       "    </tr>\n",
       "  </tbody>\n",
       "</table>\n",
       "</div>"
      ],
      "text/plain": [
       "          PM10        Pb        Cu        Cr       NOx       SO2\n",
       "PM10  1.000000  0.859673  0.762416  0.881531  0.657616  0.659130\n",
       "Pb    0.859673  1.000000  0.733743  0.816156  0.694778  0.640025\n",
       "Cu    0.762416  0.733743  1.000000  0.846173  0.575879  0.560728\n",
       "Cr    0.881531  0.816156  0.846173  1.000000  0.612259  0.615796\n",
       "NOx   0.657616  0.694778  0.575879  0.612259  1.000000  0.885179\n",
       "SO2   0.659130  0.640025  0.560728  0.615796  0.885179  1.000000"
      ]
     },
     "execution_count": 317,
     "metadata": {},
     "output_type": "execute_result"
    }
   ],
   "source": [
    "new1.corr()"
   ]
  },
  {
   "cell_type": "code",
   "execution_count": 318,
   "id": "c2edce54",
   "metadata": {
    "scrolled": true
   },
   "outputs": [
    {
     "data": {
      "text/plain": [
       "<AxesSubplot:>"
      ]
     },
     "execution_count": 318,
     "metadata": {},
     "output_type": "execute_result"
    },
    {
     "data": {
      "image/png": "[encoded data removed]",
      "text/plain": [
       "<Figure size 432x288 with 2 Axes>"
      ]
     },
     "metadata": {
      "needs_background": "light"
     },
     "output_type": "display_data"
    }
   ],
   "source": [
    "sns.heatmap(new1.corr(),annot=True)"
   ]
  },
  {
   "cell_type": "markdown",
   "id": "a5887724",
   "metadata": {},
   "source": [
    "* Their is Correlation of PM10 with Pb, Cu and Cr\n",
    "* Multicollinearity exists as per the correlation matrix"
   ]
  },
  {
   "cell_type": "markdown",
   "id": "aa12bafe",
   "metadata": {},
   "source": [
    "## Model"
   ]
  },
  {
   "cell_type": "code",
   "execution_count": 319,
   "id": "44573d4b",
   "metadata": {},
   "outputs": [
    {
     "data": {
      "text/plain": [
       "Index(['PM10', 'Pb', 'Cu', 'Cr', 'NOx', 'SO2'], dtype='object')"
      ]
     },
     "execution_count": 319,
     "metadata": {},
     "output_type": "execute_result"
    }
   ],
   "source": [
    "new1.columns"
   ]
  },
  {
   "cell_type": "code",
   "execution_count": 320,
   "id": "a4ab653b",
   "metadata": {
    "scrolled": true
   },
   "outputs": [
    {
     "data": {
      "text/html": [
       "<table class=\"simpletable\">\n",
       "<caption>OLS Regression Results</caption>\n",
       "<tr>\n",
       "  <th>Dep. Variable:</th>          <td>PM10</td>       <th>  R-squared:         </th> <td>   0.842</td>\n",
       "</tr>\n",
       "<tr>\n",
       "  <th>Model:</th>                   <td>OLS</td>       <th>  Adj. R-squared:    </th> <td>   0.835</td>\n",
       "</tr>\n",
       "<tr>\n",
       "  <th>Method:</th>             <td>Least Squares</td>  <th>  F-statistic:       </th> <td>   105.9</td>\n",
       "</tr>\n",
       "<tr>\n",
       "  <th>Date:</th>             <td>Sat, 21 May 2022</td> <th>  Prob (F-statistic):</th> <td>3.93e-38</td>\n",
       "</tr>\n",
       "<tr>\n",
       "  <th>Time:</th>                 <td>00:27:17</td>     <th>  Log-Likelihood:    </th> <td> -435.63</td>\n",
       "</tr>\n",
       "<tr>\n",
       "  <th>No. Observations:</th>      <td>   105</td>      <th>  AIC:               </th> <td>   883.3</td>\n",
       "</tr>\n",
       "<tr>\n",
       "  <th>Df Residuals:</th>          <td>    99</td>      <th>  BIC:               </th> <td>   899.2</td>\n",
       "</tr>\n",
       "<tr>\n",
       "  <th>Df Model:</th>              <td>     5</td>      <th>                     </th>     <td> </td>   \n",
       "</tr>\n",
       "<tr>\n",
       "  <th>Covariance Type:</th>      <td>nonrobust</td>    <th>                     </th>     <td> </td>   \n",
       "</tr>\n",
       "</table>\n",
       "<table class=\"simpletable\">\n",
       "<tr>\n",
       "      <td></td>         <th>coef</th>     <th>std err</th>      <th>t</th>      <th>P>|t|</th>  <th>[0.025</th>    <th>0.975]</th>  \n",
       "</tr>\n",
       "<tr>\n",
       "  <th>Intercept</th> <td>   20.0352</td> <td>    3.671</td> <td>    5.457</td> <td> 0.000</td> <td>   12.750</td> <td>   27.320</td>\n",
       "</tr>\n",
       "<tr>\n",
       "  <th>Pb</th>        <td>   26.1331</td> <td>    5.149</td> <td>    5.075</td> <td> 0.000</td> <td>   15.916</td> <td>   36.350</td>\n",
       "</tr>\n",
       "<tr>\n",
       "  <th>Cr</th>        <td>   56.2560</td> <td>    9.873</td> <td>    5.698</td> <td> 0.000</td> <td>   36.666</td> <td>   75.846</td>\n",
       "</tr>\n",
       "<tr>\n",
       "  <th>Cu</th>        <td>   -1.1238</td> <td>    7.420</td> <td>   -0.151</td> <td> 0.880</td> <td>  -15.847</td> <td>   13.600</td>\n",
       "</tr>\n",
       "<tr>\n",
       "  <th>NOx</th>       <td>   -0.0753</td> <td>    0.158</td> <td>   -0.478</td> <td> 0.634</td> <td>   -0.388</td> <td>    0.237</td>\n",
       "</tr>\n",
       "<tr>\n",
       "  <th>SO2</th>       <td>    0.5031</td> <td>    0.321</td> <td>    1.568</td> <td> 0.120</td> <td>   -0.134</td> <td>    1.140</td>\n",
       "</tr>\n",
       "</table>\n",
       "<table class=\"simpletable\">\n",
       "<tr>\n",
       "  <th>Omnibus:</th>       <td> 2.339</td> <th>  Durbin-Watson:     </th> <td>   2.199</td>\n",
       "</tr>\n",
       "<tr>\n",
       "  <th>Prob(Omnibus):</th> <td> 0.311</td> <th>  Jarque-Bera (JB):  </th> <td>   1.756</td>\n",
       "</tr>\n",
       "<tr>\n",
       "  <th>Skew:</th>          <td> 0.274</td> <th>  Prob(JB):          </th> <td>   0.416</td>\n",
       "</tr>\n",
       "<tr>\n",
       "  <th>Kurtosis:</th>      <td> 3.317</td> <th>  Cond. No.          </th> <td>    401.</td>\n",
       "</tr>\n",
       "</table><br/><br/>Notes:<br/>[1] Standard Errors assume that the covariance matrix of the errors is correctly specified."
      ],
      "text/plain": [
       "<class 'statsmodels.iolib.summary.Summary'>\n",
       "\"\"\"\n",
       "                            OLS Regression Results                            \n",
       "==============================================================================\n",
       "Dep. Variable:                   PM10   R-squared:                       0.842\n",
       "Model:                            OLS   Adj. R-squared:                  0.835\n",
       "Method:                 Least Squares   F-statistic:                     105.9\n",
       "Date:                Sat, 21 May 2022   Prob (F-statistic):           3.93e-38\n",
       "Time:                        00:27:17   Log-Likelihood:                -435.63\n",
       "No. Observations:                 105   AIC:                             883.3\n",
       "Df Residuals:                      99   BIC:                             899.2\n",
       "Df Model:                           5                                         \n",
       "Covariance Type:            nonrobust                                         \n",
       "==============================================================================\n",
       "                 coef    std err          t      P>|t|      [0.025      0.975]\n",
       "------------------------------------------------------------------------------\n",
       "Intercept     20.0352      3.671      5.457      0.000      12.750      27.320\n",
       "Pb            26.1331      5.149      5.075      0.000      15.916      36.350\n",
       "Cr            56.2560      9.873      5.698      0.000      36.666      75.846\n",
       "Cu            -1.1238      7.420     -0.151      0.880     -15.847      13.600\n",
       "NOx           -0.0753      0.158     -0.478      0.634      -0.388       0.237\n",
       "SO2            0.5031      0.321      1.568      0.120      -0.134       1.140\n",
       "==============================================================================\n",
       "Omnibus:                        2.339   Durbin-Watson:                   2.199\n",
       "Prob(Omnibus):                  0.311   Jarque-Bera (JB):                1.756\n",
       "Skew:                           0.274   Prob(JB):                        0.416\n",
       "Kurtosis:                       3.317   Cond. No.                         401.\n",
       "==============================================================================\n",
       "\n",
       "Notes:\n",
       "[1] Standard Errors assume that the covariance matrix of the errors is correctly specified.\n",
       "\"\"\""
      ]
     },
     "execution_count": 320,
     "metadata": {},
     "output_type": "execute_result"
    }
   ],
   "source": [
    "import statsmodels.formula.api as smf\n",
    "model = smf.ols('PM10 ~ Pb+Cr+Cu+NOx+SO2',data=new1).fit()\n",
    "model.summary()"
   ]
  },
  {
   "cell_type": "markdown",
   "id": "d4e1a204",
   "metadata": {},
   "source": [
    "Cu, SO2 and NOx has P>0.05. So model will be rebuilded by removing them."
   ]
  },
  {
   "cell_type": "code",
   "execution_count": 321,
   "id": "930fb9fe",
   "metadata": {
    "scrolled": true
   },
   "outputs": [
    {
     "data": {
      "text/html": [
       "<table class=\"simpletable\">\n",
       "<caption>OLS Regression Results</caption>\n",
       "<tr>\n",
       "  <th>Dep. Variable:</th>          <td>PM10</td>       <th>  R-squared:         </th> <td>   0.836</td>\n",
       "</tr>\n",
       "<tr>\n",
       "  <th>Model:</th>                   <td>OLS</td>       <th>  Adj. R-squared:    </th> <td>   0.833</td>\n",
       "</tr>\n",
       "<tr>\n",
       "  <th>Method:</th>             <td>Least Squares</td>  <th>  F-statistic:       </th> <td>   259.9</td>\n",
       "</tr>\n",
       "<tr>\n",
       "  <th>Date:</th>             <td>Sat, 21 May 2022</td> <th>  Prob (F-statistic):</th> <td>9.14e-41</td>\n",
       "</tr>\n",
       "<tr>\n",
       "  <th>Time:</th>                 <td>00:27:17</td>     <th>  Log-Likelihood:    </th> <td> -437.75</td>\n",
       "</tr>\n",
       "<tr>\n",
       "  <th>No. Observations:</th>      <td>   105</td>      <th>  AIC:               </th> <td>   881.5</td>\n",
       "</tr>\n",
       "<tr>\n",
       "  <th>Df Residuals:</th>          <td>   102</td>      <th>  BIC:               </th> <td>   889.5</td>\n",
       "</tr>\n",
       "<tr>\n",
       "  <th>Df Model:</th>              <td>     2</td>      <th>                     </th>     <td> </td>   \n",
       "</tr>\n",
       "<tr>\n",
       "  <th>Covariance Type:</th>      <td>nonrobust</td>    <th>                     </th>     <td> </td>   \n",
       "</tr>\n",
       "</table>\n",
       "<table class=\"simpletable\">\n",
       "<tr>\n",
       "      <td></td>         <th>coef</th>     <th>std err</th>      <th>t</th>      <th>P>|t|</th>  <th>[0.025</th>    <th>0.975]</th>  \n",
       "</tr>\n",
       "<tr>\n",
       "  <th>Intercept</th> <td>   25.4367</td> <td>    2.375</td> <td>   10.709</td> <td> 0.000</td> <td>   20.725</td> <td>   30.148</td>\n",
       "</tr>\n",
       "<tr>\n",
       "  <th>Pb</th>        <td>   28.1000</td> <td>    4.644</td> <td>    6.051</td> <td> 0.000</td> <td>   18.888</td> <td>   37.312</td>\n",
       "</tr>\n",
       "<tr>\n",
       "  <th>Cr</th>        <td>   58.8852</td> <td>    7.584</td> <td>    7.764</td> <td> 0.000</td> <td>   43.841</td> <td>   73.929</td>\n",
       "</tr>\n",
       "</table>\n",
       "<table class=\"simpletable\">\n",
       "<tr>\n",
       "  <th>Omnibus:</th>       <td> 2.272</td> <th>  Durbin-Watson:     </th> <td>   2.163</td>\n",
       "</tr>\n",
       "<tr>\n",
       "  <th>Prob(Omnibus):</th> <td> 0.321</td> <th>  Jarque-Bera (JB):  </th> <td>   1.733</td>\n",
       "</tr>\n",
       "<tr>\n",
       "  <th>Skew:</th>          <td> 0.184</td> <th>  Prob(JB):          </th> <td>   0.420</td>\n",
       "</tr>\n",
       "<tr>\n",
       "  <th>Kurtosis:</th>      <td> 3.510</td> <th>  Cond. No.          </th> <td>    7.33</td>\n",
       "</tr>\n",
       "</table><br/><br/>Notes:<br/>[1] Standard Errors assume that the covariance matrix of the errors is correctly specified."
      ],
      "text/plain": [
       "<class 'statsmodels.iolib.summary.Summary'>\n",
       "\"\"\"\n",
       "                            OLS Regression Results                            \n",
       "==============================================================================\n",
       "Dep. Variable:                   PM10   R-squared:                       0.836\n",
       "Model:                            OLS   Adj. R-squared:                  0.833\n",
       "Method:                 Least Squares   F-statistic:                     259.9\n",
       "Date:                Sat, 21 May 2022   Prob (F-statistic):           9.14e-41\n",
       "Time:                        00:27:17   Log-Likelihood:                -437.75\n",
       "No. Observations:                 105   AIC:                             881.5\n",
       "Df Residuals:                     102   BIC:                             889.5\n",
       "Df Model:                           2                                         \n",
       "Covariance Type:            nonrobust                                         \n",
       "==============================================================================\n",
       "                 coef    std err          t      P>|t|      [0.025      0.975]\n",
       "------------------------------------------------------------------------------\n",
       "Intercept     25.4367      2.375     10.709      0.000      20.725      30.148\n",
       "Pb            28.1000      4.644      6.051      0.000      18.888      37.312\n",
       "Cr            58.8852      7.584      7.764      0.000      43.841      73.929\n",
       "==============================================================================\n",
       "Omnibus:                        2.272   Durbin-Watson:                   2.163\n",
       "Prob(Omnibus):                  0.321   Jarque-Bera (JB):                1.733\n",
       "Skew:                           0.184   Prob(JB):                        0.420\n",
       "Kurtosis:                       3.510   Cond. No.                         7.33\n",
       "==============================================================================\n",
       "\n",
       "Notes:\n",
       "[1] Standard Errors assume that the covariance matrix of the errors is correctly specified.\n",
       "\"\"\""
      ]
     },
     "execution_count": 321,
     "metadata": {},
     "output_type": "execute_result"
    }
   ],
   "source": [
    "import statsmodels.formula.api as smf\n",
    "model1 = smf.ols('PM10 ~ Pb+Cr',data=new1).fit()\n",
    "model1.summary()"
   ]
  },
  {
   "cell_type": "code",
   "execution_count": 322,
   "id": "ee5286e0",
   "metadata": {},
   "outputs": [
    {
     "data": {
      "text/plain": [
       "Pb    5.937586\n",
       "Cr    5.937586\n",
       "dtype: float64"
      ]
     },
     "execution_count": 322,
     "metadata": {},
     "output_type": "execute_result"
    }
   ],
   "source": [
    "x1=new1.drop(['PM10','NOx','SO2','Cu'],axis=1)\n",
    "series_before=pd.Series([variance_inflation_factor(x1.values,i)\n",
    "                        for i in range(x1.shape[1])],\n",
    "                       index=x1.columns)\n",
    "series_before"
   ]
  },
  {
   "cell_type": "markdown",
   "id": "cb16ddc1",
   "metadata": {},
   "source": [
    "* There is Linear relationship between PM10 and Pb, Cr\n",
    "* 83.6% is accuracy of model , so we can say model is good fit \n",
    "* Y = 25.4367+28.1*Pb+58.8852*Cr"
   ]
  },
  {
   "cell_type": "markdown",
   "id": "e249f25a",
   "metadata": {},
   "source": [
    "## Assumptions of Model\n",
    "* Linearity\n",
    "* Constant Variance\n",
    "* Normality\n",
    "* Model Error has to be independently identificaly Distibuted"
   ]
  },
  {
   "cell_type": "markdown",
   "id": "80681e40",
   "metadata": {},
   "source": [
    "#### Linearity"
   ]
  },
  {
   "cell_type": "code",
   "execution_count": 323,
   "id": "0fba361b",
   "metadata": {
    "scrolled": false
   },
   "outputs": [
    {
     "data": {
      "text/plain": [
       "<AxesSubplot:xlabel='Pb', ylabel='PM10'>"
      ]
     },
     "execution_count": 323,
     "metadata": {},
     "output_type": "execute_result"
    },
    {
     "data": {
      "image/png": "[encoded data removed]",
      "text/plain": [
       "<Figure size 432x288 with 1 Axes>"
      ]
     },
     "metadata": {
      "needs_background": "light"
     },
     "output_type": "display_data"
    }
   ],
   "source": [
    "new1.plot.scatter(x='Pb',y='PM10')"
   ]
  },
  {
   "cell_type": "markdown",
   "id": "18764b69",
   "metadata": {},
   "source": [
    "Pb and Cr both shows strong positive linear relationship with PM10."
   ]
  },
  {
   "cell_type": "markdown",
   "id": "4312f290",
   "metadata": {},
   "source": [
    "### Finding predicted values and error of PM10 using model1"
   ]
  },
  {
   "cell_type": "code",
   "execution_count": 324,
   "id": "b0f5c628",
   "metadata": {},
   "outputs": [
    {
     "data": {
      "text/html": [
       "<div>\n",
       "<style scoped>\n",
       "    .dataframe tbody tr th:only-of-type {\n",
       "        vertical-align: middle;\n",
       "    }\n",
       "\n",
       "    .dataframe tbody tr th {\n",
       "        vertical-align: top;\n",
       "    }\n",
       "\n",
       "    .dataframe thead th {\n",
       "        text-align: right;\n",
       "    }\n",
       "</style>\n",
       "<table border=\"1\" class=\"dataframe\">\n",
       "  <thead>\n",
       "    <tr style=\"text-align: right;\">\n",
       "      <th></th>\n",
       "      <th>PM10</th>\n",
       "      <th>Pb</th>\n",
       "      <th>Cu</th>\n",
       "      <th>Cr</th>\n",
       "      <th>NOx</th>\n",
       "      <th>SO2</th>\n",
       "      <th>fitted_value</th>\n",
       "      <th>residual</th>\n",
       "    </tr>\n",
       "  </thead>\n",
       "  <tbody>\n",
       "    <tr>\n",
       "      <th>119</th>\n",
       "      <td>32.44</td>\n",
       "      <td>0.18</td>\n",
       "      <td>0.05</td>\n",
       "      <td>0.0100</td>\n",
       "      <td>16.68</td>\n",
       "      <td>5.98</td>\n",
       "      <td>31.083596</td>\n",
       "      <td>1.356404</td>\n",
       "    </tr>\n",
       "    <tr>\n",
       "      <th>13</th>\n",
       "      <td>31.31</td>\n",
       "      <td>0.47</td>\n",
       "      <td>0.07</td>\n",
       "      <td>0.1000</td>\n",
       "      <td>29.84</td>\n",
       "      <td>16.27</td>\n",
       "      <td>44.532270</td>\n",
       "      <td>-13.222270</td>\n",
       "    </tr>\n",
       "    <tr>\n",
       "      <th>74</th>\n",
       "      <td>55.74</td>\n",
       "      <td>0.72</td>\n",
       "      <td>0.19</td>\n",
       "      <td>0.3200</td>\n",
       "      <td>61.72</td>\n",
       "      <td>23.51</td>\n",
       "      <td>64.512024</td>\n",
       "      <td>-8.772024</td>\n",
       "    </tr>\n",
       "    <tr>\n",
       "      <th>68</th>\n",
       "      <td>91.89</td>\n",
       "      <td>0.99</td>\n",
       "      <td>0.09</td>\n",
       "      <td>0.5100</td>\n",
       "      <td>79.11</td>\n",
       "      <td>38.29</td>\n",
       "      <td>83.287221</td>\n",
       "      <td>8.602779</td>\n",
       "    </tr>\n",
       "    <tr>\n",
       "      <th>34</th>\n",
       "      <td>21.21</td>\n",
       "      <td>0.14</td>\n",
       "      <td>0.10</td>\n",
       "      <td>0.0000</td>\n",
       "      <td>31.62</td>\n",
       "      <td>17.52</td>\n",
       "      <td>29.370743</td>\n",
       "      <td>-8.160743</td>\n",
       "    </tr>\n",
       "    <tr>\n",
       "      <th>112</th>\n",
       "      <td>50.11</td>\n",
       "      <td>0.21</td>\n",
       "      <td>0.00</td>\n",
       "      <td>0.0000</td>\n",
       "      <td>54.71</td>\n",
       "      <td>29.04</td>\n",
       "      <td>31.337744</td>\n",
       "      <td>18.772256</td>\n",
       "    </tr>\n",
       "    <tr>\n",
       "      <th>147</th>\n",
       "      <td>40.38</td>\n",
       "      <td>0.10</td>\n",
       "      <td>0.03</td>\n",
       "      <td>0.0900</td>\n",
       "      <td>47.56</td>\n",
       "      <td>24.14</td>\n",
       "      <td>33.546413</td>\n",
       "      <td>6.833587</td>\n",
       "    </tr>\n",
       "    <tr>\n",
       "      <th>23</th>\n",
       "      <td>65.89</td>\n",
       "      <td>0.84</td>\n",
       "      <td>0.74</td>\n",
       "      <td>0.4900</td>\n",
       "      <td>56.02</td>\n",
       "      <td>24.24</td>\n",
       "      <td>77.894514</td>\n",
       "      <td>-12.004514</td>\n",
       "    </tr>\n",
       "    <tr>\n",
       "      <th>102</th>\n",
       "      <td>94.90</td>\n",
       "      <td>0.98</td>\n",
       "      <td>0.81</td>\n",
       "      <td>0.9100</td>\n",
       "      <td>53.67</td>\n",
       "      <td>30.91</td>\n",
       "      <td>106.560311</td>\n",
       "      <td>-11.660311</td>\n",
       "    </tr>\n",
       "    <tr>\n",
       "      <th>4</th>\n",
       "      <td>75.05</td>\n",
       "      <td>0.60</td>\n",
       "      <td>0.41</td>\n",
       "      <td>1.3225</td>\n",
       "      <td>48.71</td>\n",
       "      <td>19.23</td>\n",
       "      <td>120.172463</td>\n",
       "      <td>-45.122463</td>\n",
       "    </tr>\n",
       "  </tbody>\n",
       "</table>\n",
       "</div>"
      ],
      "text/plain": [
       "      PM10    Pb    Cu      Cr    NOx    SO2  fitted_value   residual\n",
       "119  32.44  0.18  0.05  0.0100  16.68   5.98     31.083596   1.356404\n",
       "13   31.31  0.47  0.07  0.1000  29.84  16.27     44.532270 -13.222270\n",
       "74   55.74  0.72  0.19  0.3200  61.72  23.51     64.512024  -8.772024\n",
       "68   91.89  0.99  0.09  0.5100  79.11  38.29     83.287221   8.602779\n",
       "34   21.21  0.14  0.10  0.0000  31.62  17.52     29.370743  -8.160743\n",
       "112  50.11  0.21  0.00  0.0000  54.71  29.04     31.337744  18.772256\n",
       "147  40.38  0.10  0.03  0.0900  47.56  24.14     33.546413   6.833587\n",
       "23   65.89  0.84  0.74  0.4900  56.02  24.24     77.894514 -12.004514\n",
       "102  94.90  0.98  0.81  0.9100  53.67  30.91    106.560311 -11.660311\n",
       "4    75.05  0.60  0.41  1.3225  48.71  19.23    120.172463 -45.122463"
      ]
     },
     "execution_count": 324,
     "metadata": {},
     "output_type": "execute_result"
    }
   ],
   "source": [
    "new1['fitted_value']=model1.fittedvalues #Predicted Value\n",
    "new1['residual']=model1.resid  #Error\n",
    "new1.head(10)"
   ]
  },
  {
   "cell_type": "markdown",
   "id": "f9e8fb59",
   "metadata": {},
   "source": [
    "#### Constant Variance"
   ]
  },
  {
   "cell_type": "code",
   "execution_count": 325,
   "id": "7010ae94",
   "metadata": {},
   "outputs": [
    {
     "data": {
      "text/plain": [
       "<AxesSubplot:xlabel='fitted_value', ylabel='residual'>"
      ]
     },
     "execution_count": 325,
     "metadata": {},
     "output_type": "execute_result"
    },
    {
     "data": {
      "image/png": "[encoded data removed]",
      "text/plain": [
       "<Figure size 432x288 with 1 Axes>"
      ]
     },
     "metadata": {
      "needs_background": "light"
     },
     "output_type": "display_data"
    }
   ],
   "source": [
    "sns.scatterplot(x='fitted_value', y='residual',data=new1)"
   ]
  },
  {
   "cell_type": "markdown",
   "id": "802554d8",
   "metadata": {},
   "source": [
    "#### Normality"
   ]
  },
  {
   "cell_type": "code",
   "execution_count": 326,
   "id": "ba61fdb3",
   "metadata": {},
   "outputs": [
    {
     "data": {
      "image/png": "[encoded data removed]",
      "text/plain": [
       "<Figure size 432x288 with 1 Axes>"
      ]
     },
     "metadata": {
      "needs_background": "light"
     },
     "output_type": "display_data"
    }
   ],
   "source": [
    "import statsmodels.api as sm\n",
    "fig = sm.qqplot(new1['residual'], fit=True, line='s') # s indicate standardized line\n",
    "plt.show()"
   ]
  },
  {
   "cell_type": "markdown",
   "id": "2f3e55b3",
   "metadata": {},
   "source": [
    "#### Model error has to be IID"
   ]
  },
  {
   "cell_type": "code",
   "execution_count": 327,
   "id": "167e2b64",
   "metadata": {},
   "outputs": [
    {
     "data": {
      "text/plain": [
       "<AxesSubplot:ylabel='Frequency'>"
      ]
     },
     "execution_count": 327,
     "metadata": {},
     "output_type": "execute_result"
    },
    {
     "data": {
      "image/png": "[encoded data removed]",
      "text/plain": [
       "<Figure size 432x288 with 1 Axes>"
      ]
     },
     "metadata": {
      "needs_background": "light"
     },
     "output_type": "display_data"
    }
   ],
   "source": [
    "new1['residual'].plot.hist()"
   ]
  },
  {
   "cell_type": "markdown",
   "id": "08d14f6c",
   "metadata": {},
   "source": [
    "# Prediction on Test Data (unseen data)"
   ]
  },
  {
   "cell_type": "code",
   "execution_count": 328,
   "id": "d2f536b5",
   "metadata": {
    "scrolled": false
   },
   "outputs": [
    {
     "data": {
      "text/html": [
       "<div>\n",
       "<style scoped>\n",
       "    .dataframe tbody tr th:only-of-type {\n",
       "        vertical-align: middle;\n",
       "    }\n",
       "\n",
       "    .dataframe tbody tr th {\n",
       "        vertical-align: top;\n",
       "    }\n",
       "\n",
       "    .dataframe thead th {\n",
       "        text-align: right;\n",
       "    }\n",
       "</style>\n",
       "<table border=\"1\" class=\"dataframe\">\n",
       "  <thead>\n",
       "    <tr style=\"text-align: right;\">\n",
       "      <th></th>\n",
       "      <th>Pb</th>\n",
       "      <th>Cu</th>\n",
       "      <th>Cr</th>\n",
       "      <th>NOx</th>\n",
       "      <th>SO2</th>\n",
       "      <th>PM10</th>\n",
       "    </tr>\n",
       "  </thead>\n",
       "  <tbody>\n",
       "    <tr>\n",
       "      <th>33</th>\n",
       "      <td>0.40</td>\n",
       "      <td>0.19</td>\n",
       "      <td>0.20</td>\n",
       "      <td>38.09</td>\n",
       "      <td>26.19</td>\n",
       "      <td>41.44</td>\n",
       "    </tr>\n",
       "    <tr>\n",
       "      <th>16</th>\n",
       "      <td>0.34</td>\n",
       "      <td>0.01</td>\n",
       "      <td>0.04</td>\n",
       "      <td>21.41</td>\n",
       "      <td>10.15</td>\n",
       "      <td>41.05</td>\n",
       "    </tr>\n",
       "    <tr>\n",
       "      <th>104</th>\n",
       "      <td>0.39</td>\n",
       "      <td>0.00</td>\n",
       "      <td>0.05</td>\n",
       "      <td>36.96</td>\n",
       "      <td>12.16</td>\n",
       "      <td>46.84</td>\n",
       "    </tr>\n",
       "    <tr>\n",
       "      <th>131</th>\n",
       "      <td>0.11</td>\n",
       "      <td>0.22</td>\n",
       "      <td>0.19</td>\n",
       "      <td>21.46</td>\n",
       "      <td>17.72</td>\n",
       "      <td>35.88</td>\n",
       "    </tr>\n",
       "    <tr>\n",
       "      <th>78</th>\n",
       "      <td>0.87</td>\n",
       "      <td>0.91</td>\n",
       "      <td>0.67</td>\n",
       "      <td>47.12</td>\n",
       "      <td>19.43</td>\n",
       "      <td>77.74</td>\n",
       "    </tr>\n",
       "  </tbody>\n",
       "</table>\n",
       "</div>"
      ],
      "text/plain": [
       "       Pb    Cu    Cr    NOx    SO2   PM10\n",
       "33   0.40  0.19  0.20  38.09  26.19  41.44\n",
       "16   0.34  0.01  0.04  21.41  10.15  41.05\n",
       "104  0.39  0.00  0.05  36.96  12.16  46.84\n",
       "131  0.11  0.22  0.19  21.46  17.72  35.88\n",
       "78   0.87  0.91  0.67  47.12  19.43  77.74"
      ]
     },
     "execution_count": 328,
     "metadata": {},
     "output_type": "execute_result"
    }
   ],
   "source": [
    "new_test=pd.concat([x_test,y_test],axis=1)\n",
    "new_test.head()"
   ]
  },
  {
   "cell_type": "markdown",
   "id": "a206dfe0",
   "metadata": {},
   "source": [
    "### Test data prediction"
   ]
  },
  {
   "cell_type": "code",
   "execution_count": 329,
   "id": "2ac4eb56",
   "metadata": {
    "scrolled": true
   },
   "outputs": [
    {
     "data": {
      "text/html": [
       "<div>\n",
       "<style scoped>\n",
       "    .dataframe tbody tr th:only-of-type {\n",
       "        vertical-align: middle;\n",
       "    }\n",
       "\n",
       "    .dataframe tbody tr th {\n",
       "        vertical-align: top;\n",
       "    }\n",
       "\n",
       "    .dataframe thead th {\n",
       "        text-align: right;\n",
       "    }\n",
       "</style>\n",
       "<table border=\"1\" class=\"dataframe\">\n",
       "  <thead>\n",
       "    <tr style=\"text-align: right;\">\n",
       "      <th></th>\n",
       "      <th>Pb</th>\n",
       "      <th>Cu</th>\n",
       "      <th>Cr</th>\n",
       "      <th>NOx</th>\n",
       "      <th>SO2</th>\n",
       "      <th>PM10</th>\n",
       "      <th>Prediction</th>\n",
       "    </tr>\n",
       "  </thead>\n",
       "  <tbody>\n",
       "    <tr>\n",
       "      <th>33</th>\n",
       "      <td>0.40</td>\n",
       "      <td>0.19</td>\n",
       "      <td>0.20</td>\n",
       "      <td>38.09</td>\n",
       "      <td>26.19</td>\n",
       "      <td>41.44</td>\n",
       "      <td>48.453792</td>\n",
       "    </tr>\n",
       "    <tr>\n",
       "      <th>16</th>\n",
       "      <td>0.34</td>\n",
       "      <td>0.01</td>\n",
       "      <td>0.04</td>\n",
       "      <td>21.41</td>\n",
       "      <td>10.15</td>\n",
       "      <td>41.05</td>\n",
       "      <td>37.346155</td>\n",
       "    </tr>\n",
       "    <tr>\n",
       "      <th>104</th>\n",
       "      <td>0.39</td>\n",
       "      <td>0.00</td>\n",
       "      <td>0.05</td>\n",
       "      <td>36.96</td>\n",
       "      <td>12.16</td>\n",
       "      <td>46.84</td>\n",
       "      <td>39.340008</td>\n",
       "    </tr>\n",
       "    <tr>\n",
       "      <th>131</th>\n",
       "      <td>0.11</td>\n",
       "      <td>0.22</td>\n",
       "      <td>0.19</td>\n",
       "      <td>21.46</td>\n",
       "      <td>17.72</td>\n",
       "      <td>35.88</td>\n",
       "      <td>39.715936</td>\n",
       "    </tr>\n",
       "    <tr>\n",
       "      <th>78</th>\n",
       "      <td>0.87</td>\n",
       "      <td>0.91</td>\n",
       "      <td>0.67</td>\n",
       "      <td>47.12</td>\n",
       "      <td>19.43</td>\n",
       "      <td>77.74</td>\n",
       "      <td>89.336855</td>\n",
       "    </tr>\n",
       "  </tbody>\n",
       "</table>\n",
       "</div>"
      ],
      "text/plain": [
       "       Pb    Cu    Cr    NOx    SO2   PM10  Prediction\n",
       "33   0.40  0.19  0.20  38.09  26.19  41.44   48.453792\n",
       "16   0.34  0.01  0.04  21.41  10.15  41.05   37.346155\n",
       "104  0.39  0.00  0.05  36.96  12.16  46.84   39.340008\n",
       "131  0.11  0.22  0.19  21.46  17.72  35.88   39.715936\n",
       "78   0.87  0.91  0.67  47.12  19.43  77.74   89.336855"
      ]
     },
     "execution_count": 329,
     "metadata": {},
     "output_type": "execute_result"
    }
   ],
   "source": [
    "new_test['Prediction']=model1.predict(new_test) # predict = all row prediction ( Auto )\n",
    "new_test.head()"
   ]
  },
  {
   "cell_type": "code",
   "execution_count": 330,
   "id": "b398833c",
   "metadata": {},
   "outputs": [
    {
     "name": "stdout",
     "output_type": "stream",
     "text": [
      "RMSE of train : 15.64\n"
     ]
    }
   ],
   "source": [
    "import math\n",
    "from sklearn.metrics import mean_squared_error\n",
    "\n",
    "# calculate the mean squared error\n",
    "model_mse = mean_squared_error(new1['PM10'],new1['fitted_value'])\n",
    "\n",
    "# calulcate the root mean squared error\n",
    "model_rmse = math.sqrt(model_mse)\n",
    "# display the output\n",
    "print(\"RMSE of train :\",round(model_rmse,2))"
   ]
  },
  {
   "cell_type": "code",
   "execution_count": 331,
   "id": "60ba5a4e",
   "metadata": {},
   "outputs": [
    {
     "name": "stdout",
     "output_type": "stream",
     "text": [
      "RMSE of test : 19.98\n"
     ]
    }
   ],
   "source": [
    "import math\n",
    "from sklearn.metrics import mean_squared_error\n",
    "\n",
    "# calculate the mean squared error\n",
    "model_mse = mean_squared_error(new_test['PM10'],new_test['Prediction'])\n",
    "\n",
    "# calulcate the root mean squared error\n",
    "model_rmse = math.sqrt(model_mse)\n",
    "# display the output\n",
    "print(\"RMSE of test :\",round(model_rmse,2))"
   ]
  },
  {
   "cell_type": "code",
   "execution_count": null,
   "id": "9bd8557d",
   "metadata": {},
   "outputs": [],
   "source": []
  },
  {
   "cell_type": "code",
   "execution_count": null,
   "id": "cb477633",
   "metadata": {},
   "outputs": [],
   "source": []
  },
  {
   "cell_type": "code",
   "execution_count": null,
   "id": "bb116133",
   "metadata": {},
   "outputs": [],
   "source": []
  }
 ],
 "metadata": {
  "kernelspec": {
   "display_name": "Python 3 (ipykernel)",
   "language": "python",
   "name": "python3"
  },
  "language_info": {
   "codemirror_mode": {
    "name": "ipython",
    "version": 3
   },
   "file_extension": ".py",
   "mimetype": "text/x-python",
   "name": "python",
   "nbconvert_exporter": "python",
   "pygments_lexer": "ipython3",
   "version": "3.9.7"
  }
 },
 "nbformat": 4,
 "nbformat_minor": 5
}
